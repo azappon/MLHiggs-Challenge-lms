{
 "cells": [
  {
   "cell_type": "markdown",
   "metadata": {
    "collapsed": false
   },
   "source": [
    "# Baseline Linear Models"
   ]
  },
  {
   "cell_type": "code",
   "execution_count": 64,
   "metadata": {
    "collapsed": false
   },
   "outputs": [
    {
     "name": "stdout",
     "output_type": "stream",
     "text": [
      "The autoreload extension is already loaded. To reload it, use:\n",
      "  %reload_ext autoreload\n"
     ]
    }
   ],
   "source": [
    "%matplotlib inline\n",
    "%load_ext autoreload\n",
    "%autoreload 2\n",
    "\n",
    "import sys\n",
    "sys.path.append(\"..\")"
   ]
  },
  {
   "cell_type": "code",
   "execution_count": 65,
   "metadata": {
    "collapsed": false
   },
   "outputs": [],
   "source": [
    "from types import SimpleNamespace\n",
    "\n",
    "import os\n",
    "import numpy as np\n",
    "\n",
    "import dataset_utils\n",
    "import helpers\n",
    "import plots\n",
    "import preprocessing\n",
    "import train_utils\n",
    "from implementations import (\n",
    "    ridge_regression,\n",
    "    mean_squared_error_gd,\n",
    "    mean_squared_error_sgd,\n",
    "    reg_logistic_regression,\n",
    "    logistic_regression,\n",
    "    logistic_regression_sgd,\n",
    "    reg_logistic_regression_sgd,\n",
    "    least_squares,\n",
    ")\n",
    "from naive_baselines import (\n",
    "    random_guess,\n",
    "    majority_guess,\n",
    ")"
   ]
  },
  {
   "cell_type": "code",
   "execution_count": 4,
   "metadata": {
    "collapsed": false
   },
   "outputs": [],
   "source": [
    "N_DIM = 0\n",
    "D_DIM = 1"
   ]
  },
  {
   "cell_type": "markdown",
   "metadata": {
    "collapsed": false
   },
   "source": [
    "Define hyperprameter domains"
   ]
  },
  {
   "cell_type": "code",
   "execution_count": 5,
   "metadata": {
    "collapsed": false
   },
   "outputs": [],
   "source": [
    "config = SimpleNamespace(\n",
    "    seed=270404,\n",
    "    sub_sample=True,\n",
    "    algorithm=None,\n",
    "    algorithm_hyperparams=dict(\n",
    "        lambda_=np.logspace(-5, 0, 6),\n",
    "        max_iters=np.arange(0, 1001, 200),\n",
    "        gamma=np.logspace(-4, 0, 5),\n",
    "    ),\n",
    "    preconditioning_hyperparams=dict(\n",
    "        categorical_subsets=[\n",
    "            [[0, 1, 2, 3]],\n",
    "        ],\n",
    "        standardize=[True],\n",
    "        nan_threshold_ratio=np.linspace(0.5, 0.9, 4),\n",
    "        nan_replacement_type=[\"mean\", \"median\"],\n",
    "        extrema_clip_percentage=[0.],\n",
    "        non_informative_threshold=[-1],\n",
    "    ),\n",
    "    feature_augmentation_hyperparams=dict(\n",
    "        feature_augmentation=[False],\n",
    "        poly_max_degree=[0],\n",
    "        ihs=[False],\n",
    "        sine=[False],\n",
    "        sinh=[False],\n",
    "        cosine=[False],\n",
    "        cosh=[False],\n",
    "        exp=[False],\n",
    "        abs=[False],\n",
    "    ),\n",
    "    k_fold=10,\n",
    ")"
   ]
  },
  {
   "cell_type": "markdown",
   "metadata": {
    "collapsed": false
   },
   "source": [
    "Preparing the data"
   ]
  },
  {
   "cell_type": "code",
   "execution_count": 6,
   "metadata": {
    "collapsed": false
   },
   "outputs": [],
   "source": [
    "# Data loading.\n",
    "y_train, x_train, ids_train = helpers.load_csv_data(\n",
    "    \"../data/train.csv\", sub_sample=config.sub_sample\n",
    ")\n",
    "_, x_test, ids_test = helpers.load_csv_data(\n",
    "    \"../data/test.csv\", sub_sample=config.sub_sample\n",
    ")\n",
    "y_train = dataset_utils.from_11_to_01(y_train)"
   ]
  },
  {
   "cell_type": "code",
   "execution_count": 8,
   "metadata": {
    "collapsed": false
   },
   "outputs": [
    {
     "name": "stdout",
     "output_type": "stream",
     "text": [
      "Working on algorithm random_guess\n"
     ]
    },
    {
     "name": "stderr",
     "output_type": "stream",
     "text": [
      "100%|██████████| 8/8 [00:00<00:00, 23.87it/s]\n"
     ]
    },
    {
     "name": "stdout",
     "output_type": "stream",
     "text": [
      "Algorithm: random_guess\n",
      "Best sweep accuracy: 0.48180000000000006.\n",
      "Obtained for hyperparameters: {'categorical_subsets': [[0, 1, 2, 3]], 'standardize': True, 'nan_threshold_percentage': 0.5, 'nan_replacement_type': 'mean', 'extrema_clip_percentage': 0.0, 'non_informative_threshold': 1.0, 'feature_augmentation': False, 'poly_max_degree': 0, 'ihs': False, 'sine': False, 'sinh': False, 'cosine': False, 'cosh': False, 'exp': False, 'abs': False, 'seed': 270404, 'test_accuracies': [0.466, 0.482, 0.474, 0.466, 0.478, 0.49, 0.54, 0.476, 0.482, 0.464]}.\n",
      "Working on algorithm majority_guess\n"
     ]
    },
    {
     "name": "stderr",
     "output_type": "stream",
     "text": [
      "100%|██████████| 8/8 [00:00<00:00, 26.11it/s]\n"
     ]
    },
    {
     "name": "stdout",
     "output_type": "stream",
     "text": [
      "Algorithm: majority_guess\n",
      "Best sweep accuracy: 0.6714.\n",
      "Obtained for hyperparameters: {'categorical_subsets': [[0, 1, 2, 3]], 'standardize': True, 'nan_threshold_percentage': 0.5, 'nan_replacement_type': 'mean', 'extrema_clip_percentage': 0.0, 'non_informative_threshold': 1.0, 'feature_augmentation': False, 'poly_max_degree': 0, 'ihs': False, 'sine': False, 'sinh': False, 'cosine': False, 'cosh': False, 'exp': False, 'abs': False, 'seed': 270404, 'test_accuracies': [0.646, 0.662, 0.702, 0.674, 0.678, 0.654, 0.644, 0.68, 0.674, 0.7]}.\n",
      "Working on algorithm least_squares\n"
     ]
    },
    {
     "name": "stderr",
     "output_type": "stream",
     "text": [
      "100%|██████████| 8/8 [00:00<00:00, 19.89it/s]\n"
     ]
    },
    {
     "name": "stdout",
     "output_type": "stream",
     "text": [
      "Algorithm: least_squares\n",
      "Best sweep accuracy: 0.7522.\n",
      "Obtained for hyperparameters: {'categorical_subsets': [[0, 1, 2, 3]], 'standardize': True, 'nan_threshold_percentage': 0.7666666666666666, 'nan_replacement_type': 'median', 'extrema_clip_percentage': 0.0, 'non_informative_threshold': 1.0, 'feature_augmentation': False, 'poly_max_degree': 0, 'ihs': False, 'sine': False, 'sinh': False, 'cosine': False, 'cosh': False, 'exp': False, 'abs': False, 'seed': 270404, 'test_accuracies': [0.748, 0.712, 0.778, 0.748, 0.772, 0.772, 0.736, 0.746, 0.746, 0.764]}.\n",
      "Working on algorithm ridge_regression\n"
     ]
    },
    {
     "name": "stderr",
     "output_type": "stream",
     "text": [
      "100%|██████████| 48/48 [00:02<00:00, 20.39it/s]\n"
     ]
    },
    {
     "name": "stdout",
     "output_type": "stream",
     "text": [
      "Algorithm: ridge_regression\n",
      "Best sweep accuracy: 0.7532.\n",
      "Obtained for hyperparameters: {'lambda_': 0.001, 'categorical_subsets': [[0, 1, 2, 3]], 'standardize': True, 'nan_threshold_percentage': 0.7666666666666666, 'nan_replacement_type': 'median', 'extrema_clip_percentage': 0.0, 'non_informative_threshold': 1.0, 'feature_augmentation': False, 'poly_max_degree': 0, 'ihs': False, 'sine': False, 'sinh': False, 'cosine': False, 'cosh': False, 'exp': False, 'abs': False, 'seed': 270404, 'test_accuracies': [0.748, 0.714, 0.784, 0.76, 0.77, 0.774, 0.728, 0.748, 0.746, 0.76]}.\n",
      "Working on algorithm mean_squared_error_gd\n"
     ]
    },
    {
     "name": "stderr",
     "output_type": "stream",
     "text": [
      " 32%|███▏      | 77/240 [00:20<01:17,  2.10it/s]/Users/skander/courses/epfl/ml-project-1-lms/linear_regression_utils.py:21: RuntimeWarning: overflow encountered in square\n",
      "  return (e**2).mean() / 2\n",
      "/Users/skander/miniforge3/envs/cs433-p1-lms/lib/python3.9/site-packages/numpy/core/_methods.py:180: RuntimeWarning: overflow encountered in reduce\n",
      "  ret = umr_sum(arr, axis, dtype, out, keepdims, where=where)\n",
      " 49%|████▉     | 117/240 [00:57<01:58,  1.04it/s]/Users/skander/courses/epfl/ml-project-1-lms/linear_regression_utils.py:35: RuntimeWarning: overflow encountered in matmul\n",
      "  return -tx.T @ (y - tx @ w) / len(y)\n",
      "/Users/skander/courses/epfl/ml-project-1-lms/linear_regression_utils.py:35: RuntimeWarning: invalid value encountered in matmul\n",
      "  return -tx.T @ (y - tx @ w) / len(y)\n",
      "100%|██████████| 240/240 [04:46<00:00,  1.19s/it]\n"
     ]
    },
    {
     "name": "stdout",
     "output_type": "stream",
     "text": [
      "Algorithm: mean_squared_error_gd\n",
      "Best sweep accuracy: 0.7541999999999999.\n",
      "Obtained for hyperparameters: {'max_iters': 200, 'gamma': 0.1, 'categorical_subsets': [[0, 1, 2, 3]], 'standardize': True, 'nan_threshold_percentage': 0.7666666666666666, 'nan_replacement_type': 'mean', 'extrema_clip_percentage': 0.0, 'non_informative_threshold': 1.0, 'feature_augmentation': False, 'poly_max_degree': 0, 'ihs': False, 'sine': False, 'sinh': False, 'cosine': False, 'cosh': False, 'exp': False, 'abs': False, 'seed': 270404, 'test_accuracies': [0.752, 0.708, 0.782, 0.76, 0.776, 0.766, 0.728, 0.748, 0.754, 0.768]}.\n",
      "Working on algorithm mean_squared_error_sgd\n"
     ]
    },
    {
     "name": "stderr",
     "output_type": "stream",
     "text": [
      " 63%|██████▎   | 152/240 [00:11<00:11,  7.71it/s]/Users/skander/courses/epfl/ml-project-1-lms/implementations.py:79: RuntimeWarning: overflow encountered in subtract\n",
      "  w -= gamma * gradient\n",
      "/Users/skander/courses/epfl/ml-project-1-lms/implementations.py:79: RuntimeWarning: invalid value encountered in subtract\n",
      "  w -= gamma * gradient\n",
      "100%|██████████| 240/240 [00:22<00:00, 10.57it/s]\n"
     ]
    },
    {
     "name": "stdout",
     "output_type": "stream",
     "text": [
      "Algorithm: mean_squared_error_sgd\n",
      "Best sweep accuracy: 0.734.\n",
      "Obtained for hyperparameters: {'max_iters': 600, 'gamma': 0.01, 'categorical_subsets': [[0, 1, 2, 3]], 'standardize': True, 'nan_threshold_percentage': 0.7666666666666666, 'nan_replacement_type': 'median', 'extrema_clip_percentage': 0.0, 'non_informative_threshold': 1.0, 'feature_augmentation': False, 'poly_max_degree': 0, 'ihs': False, 'sine': False, 'sinh': False, 'cosine': False, 'cosh': False, 'exp': False, 'abs': False, 'seed': 270404, 'test_accuracies': [0.724, 0.712, 0.756, 0.734, 0.756, 0.734, 0.716, 0.702, 0.736, 0.77]}.\n",
      "Working on algorithm logistic_regression\n"
     ]
    },
    {
     "name": "stderr",
     "output_type": "stream",
     "text": [
      "100%|██████████| 240/240 [05:03<00:00,  1.27s/it]\n"
     ]
    },
    {
     "name": "stdout",
     "output_type": "stream",
     "text": [
      "Algorithm: logistic_regression\n",
      "Best sweep accuracy: 0.756.\n",
      "Obtained for hyperparameters: {'max_iters': 400, 'gamma': 1.0, 'categorical_subsets': [[0, 1, 2, 3]], 'standardize': True, 'nan_threshold_percentage': 0.7666666666666666, 'nan_replacement_type': 'median', 'extrema_clip_percentage': 0.0, 'non_informative_threshold': 1.0, 'feature_augmentation': False, 'poly_max_degree': 0, 'ihs': False, 'sine': False, 'sinh': False, 'cosine': False, 'cosh': False, 'exp': False, 'abs': False, 'seed': 270404, 'test_accuracies': [0.77, 0.71, 0.768, 0.75, 0.782, 0.776, 0.726, 0.74, 0.766, 0.772]}.\n",
      "Working on algorithm logistic_regression_sgd\n"
     ]
    },
    {
     "name": "stderr",
     "output_type": "stream",
     "text": [
      "100%|██████████| 240/240 [00:24<00:00,  9.95it/s]\n"
     ]
    },
    {
     "name": "stdout",
     "output_type": "stream",
     "text": [
      "Algorithm: logistic_regression_sgd\n",
      "Best sweep accuracy: 0.7384000000000001.\n",
      "Obtained for hyperparameters: {'max_iters': 1000, 'gamma': 0.01, 'categorical_subsets': [[0, 1, 2, 3]], 'standardize': True, 'nan_threshold_percentage': 0.7666666666666666, 'nan_replacement_type': 'median', 'extrema_clip_percentage': 0.0, 'non_informative_threshold': 1.0, 'feature_augmentation': False, 'poly_max_degree': 0, 'ihs': False, 'sine': False, 'sinh': False, 'cosine': False, 'cosh': False, 'exp': False, 'abs': False, 'seed': 270404, 'test_accuracies': [0.728, 0.71, 0.764, 0.732, 0.766, 0.722, 0.712, 0.724, 0.754, 0.772]}.\n",
      "Working on algorithm reg_logistic_regression\n"
     ]
    },
    {
     "name": "stderr",
     "output_type": "stream",
     "text": [
      " 88%|████████▊ | 1272/1440 [26:25<01:51,  1.51it/s]/Users/skander/courses/epfl/ml-project-1-lms/logistic_regression_utils.py:16: RuntimeWarning: overflow encountered in exp\n",
      "  return 1 / (1 + np.exp(-t))\n",
      " 91%|█████████ | 1312/1440 [27:03<02:25,  1.14s/it]/Users/skander/courses/epfl/ml-project-1-lms/logistic_regression_utils.py:34: RuntimeWarning: overflow encountered in exp\n",
      "  loss = -y.T.dot(pred) / N + np.mean(np.log(1 + np.exp(pred)))\n",
      "100%|██████████| 1440/1440 [31:22<00:00,  1.31s/it]\n"
     ]
    },
    {
     "name": "stdout",
     "output_type": "stream",
     "text": [
      "Algorithm: reg_logistic_regression\n",
      "Best sweep accuracy: 0.7562.\n",
      "Obtained for hyperparameters: {'lambda_': 0.0001, 'max_iters': 600, 'gamma': 1.0, 'categorical_subsets': [[0, 1, 2, 3]], 'standardize': True, 'nan_threshold_percentage': 0.7666666666666666, 'nan_replacement_type': 'median', 'extrema_clip_percentage': 0.0, 'non_informative_threshold': 1.0, 'feature_augmentation': False, 'poly_max_degree': 0, 'ihs': False, 'sine': False, 'sinh': False, 'cosine': False, 'cosh': False, 'exp': False, 'abs': False, 'seed': 270404, 'test_accuracies': [0.77, 0.71, 0.77, 0.75, 0.782, 0.776, 0.726, 0.74, 0.766, 0.772]}.\n",
      "Working on algorithm reg_logistic_regression_sgd\n"
     ]
    },
    {
     "name": "stderr",
     "output_type": "stream",
     "text": [
      "100%|██████████| 1440/1440 [02:38<00:00,  9.06it/s]\n"
     ]
    },
    {
     "name": "stdout",
     "output_type": "stream",
     "text": [
      "Algorithm: reg_logistic_regression_sgd\n",
      "Best sweep accuracy: 0.7384000000000001.\n",
      "Obtained for hyperparameters: {'lambda_': 1e-05, 'max_iters': 1000, 'gamma': 0.01, 'categorical_subsets': [[0, 1, 2, 3]], 'standardize': True, 'nan_threshold_percentage': 0.7666666666666666, 'nan_replacement_type': 'median', 'extrema_clip_percentage': 0.0, 'non_informative_threshold': 1.0, 'feature_augmentation': False, 'poly_max_degree': 0, 'ihs': False, 'sine': False, 'sinh': False, 'cosine': False, 'cosh': False, 'exp': False, 'abs': False, 'seed': 270404, 'test_accuracies': [0.728, 0.71, 0.764, 0.732, 0.766, 0.722, 0.712, 0.724, 0.754, 0.772]}.\n"
     ]
    }
   ],
   "source": [
    "for algorithm in [\n",
    "    random_guess,\n",
    "    majority_guess,\n",
    "    least_squares,\n",
    "    ridge_regression,\n",
    "    mean_squared_error_gd,\n",
    "    mean_squared_error_sgd,\n",
    "    logistic_regression,\n",
    "    logistic_regression_sgd,\n",
    "    reg_logistic_regression,\n",
    "    reg_logistic_regression_sgd,\n",
    "]:\n",
    "    print(f\"Working on algorithm {algorithm.__name__}\")\n",
    "    config.algorithm = algorithm\n",
    "    # Train a model.\n",
    "    results = train_utils.hyperparameter_sweep(y_train, x_train, config)\n",
    "\n",
    "    train_utils.save_hyperparameter_sweep_results(\n",
    "        algorithm=config.algorithm,\n",
    "        results=results,\n",
    "        output_dir=\"../results/baselines\",\n",
    "    )\n",
    "\n",
    "    # Find the best hyperparameters.\n",
    "    (\n",
    "        best_hyperparams,\n",
    "        best_mean_accuracy,\n",
    "    ) = train_utils.pick_best_hyperparameters(results)\n",
    "    print(\n",
    "        f\"Algorithm: {algorithm.__name__}\\n\"\n",
    "        f\"Best sweep accuracy: {best_mean_accuracy}.\\n\"\n",
    "        f\"Obtained for hyperparameters: {best_hyperparams}.\"\n",
    "    )"
   ]
  },
  {
   "cell_type": "markdown",
   "metadata": {},
   "source": [
    "## Get baselines boxplots"
   ]
  },
  {
   "cell_type": "code",
   "execution_count": 72,
   "metadata": {},
   "outputs": [
    {
     "data": {
      "image/png": "[encoded data removed]",
      "text/plain": [
       "<Figure size 640x480 with 1 Axes>"
      ]
     },
     "metadata": {},
     "output_type": "display_data"
    }
   ],
   "source": [
    "baselines_dir = \"../results/baselines\"\n",
    "paths_to_models = []\n",
    "for filename in os.listdir(baselines_dir):\n",
    "    if filename[-4:] != '.csv':\n",
    "        paths_to_models.append(os.path.join(baselines_dir, filename))\n",
    "\n",
    "output_path = \"../figures/baseline_accuracies.png\"\n",
    "\n",
    "plots.plot_models_accuracy(\n",
    "    paths_to_models=paths_to_models, \n",
    "    output_path=output_path,\n",
    "    x_label_rotation=45,\n",
    "    y_range=[0.4, 0.9]\n",
    "    )"
   ]
  },
  {
   "cell_type": "markdown",
   "metadata": {},
   "source": [
    "## Get hyperparameter (lambda) sweep figure"
   ]
  },
  {
   "cell_type": "code",
   "execution_count": 73,
   "metadata": {},
   "outputs": [
    {
     "data": {
      "image/png": "[encoded data removed]",
      "text/plain": [
       "<Figure size 640x480 with 1 Axes>"
      ]
     },
     "metadata": {},
     "output_type": "display_data"
    }
   ],
   "source": [
    "hyperparameter_sweep_file_path = \"../results/baselines/ridge_regression.pkl\"\n",
    "results = train_utils.load_hyperparameter_sweep_results(hyperparameter_sweep_file_path)\n",
    "\n",
    "# Parameter which we are going to sweep\n",
    "swept_hyperparameter = \"lambda_\"\n",
    "\n",
    "# Prepare fixed hyperparameters\n",
    "(best_hyperparams, best_mean_accuracy,) = train_utils.pick_best_hyperparameters(results)\n",
    "fixed_hyperparameters = best_hyperparams\n",
    "del best_hyperparams[swept_hyperparameter]\n",
    "del best_hyperparams['test_accuracies']\n",
    "\n",
    "\n",
    "output_path = \"../figures/sweep_lambda_ridge_regression.png\"\n",
    "\n",
    "plots.plot_sweep_over_hyperparam(file_path=hyperparameter_sweep_file_path,\n",
    "    swept_hyperparameter=swept_hyperparameter, \n",
    "    fixed_hyperparameters=fixed_hyperparameters, \n",
    "    output_path=output_path,\n",
    "    y_range=[0.6, 0.8]\n",
    "    )"
   ]
  }
 ],
 "metadata": {
  "kernelspec": {
   "display_name": "Python 3.9.13 ('cs433-p1-lms')",
   "language": "python",
   "name": "python3"
  },
  "language_info": {
   "codemirror_mode": {
    "name": "ipython",
    "version": 3
   },
   "file_extension": ".py",
   "mimetype": "text/x-python",
   "name": "python",
   "nbconvert_exporter": "python",
   "pygments_lexer": "ipython3",
   "version": "3.9.13"
  },
  "vscode": {
   "interpreter": {
    "hash": "4925206734250f49521696813461554350459dd14c620cc05875c4038ec93b94"
   }
  }
 },
 "nbformat": 4,
 "nbformat_minor": 0
}
