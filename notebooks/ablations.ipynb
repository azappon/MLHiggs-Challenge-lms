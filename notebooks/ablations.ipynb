{
 "cells": [
  {
   "cell_type": "markdown",
   "metadata": {
    "collapsed": false
   },
   "source": [
    "# Ablation on best model"
   ]
  },
  {
   "cell_type": "code",
   "execution_count": 3,
   "metadata": {
    "collapsed": false
   },
   "outputs": [
    {
     "name": "stdout",
     "output_type": "stream",
     "text": [
      "The autoreload extension is already loaded. To reload it, use:\n",
      "  %reload_ext autoreload\n"
     ]
    }
   ],
   "source": [
    "%matplotlib inline\n",
    "%load_ext autoreload\n",
    "%autoreload 2\n",
    "\n",
    "import sys\n",
    "sys.path.append(\"..\")"
   ]
  },
  {
   "cell_type": "code",
   "execution_count": 4,
   "metadata": {
    "collapsed": false
   },
   "outputs": [],
   "source": [
    "from types import SimpleNamespace\n",
    "\n",
    "import numpy as np\n",
    "\n",
    "import dataset_utils\n",
    "import helpers\n",
    "import train_utils\n",
    "from implementations import (\n",
    "    ridge_regression,\n",
    "    reg_logistic_regression_sgd,\n",
    ")"
   ]
  },
  {
   "cell_type": "code",
   "execution_count": 7,
   "metadata": {
    "collapsed": false
   },
   "outputs": [],
   "source": [
    "N_DIM = 0\n",
    "D_DIM = 1"
   ]
  },
  {
   "cell_type": "markdown",
   "metadata": {
    "collapsed": false
   },
   "source": [
    "Define hyperprameter domains"
   ]
  },
  {
   "cell_type": "code",
   "execution_count": 37,
   "metadata": {
    "collapsed": false
   },
   "outputs": [],
   "source": [
    "config = SimpleNamespace(\n",
    "    seed=270404,\n",
    "    sub_sample=False,\n",
    "    algorithm=ridge_regression,\n",
    "    algorithm_hyperparams=dict(\n",
    "        lambda_=[1e-7],\n",
    "        max_iters=[1],\n",
    "        gamma=[1.],\n",
    "    ),\n",
    "    preconditioning_hyperparams=dict(\n",
    "        categorical_subsets=[\n",
    "            [[0], [1], [2, 3]],\n",
    "        ],\n",
    "        standardize=[True],\n",
    "        nan_threshold_ratio=[0.5],\n",
    "        nan_replacement_type=[\"median\"],\n",
    "        extrema_clip_percentage=[1],\n",
    "        non_informative_threshold=[0.05],\n",
    "    ),\n",
    "    feature_augmentation_hyperparams=dict(\n",
    "        feature_augmentation=[True],\n",
    "        poly_max_degree=[12],\n",
    "        ihs=[True],\n",
    "        sine=[True],\n",
    "        sinh=[True],\n",
    "        cosine=[True],\n",
    "        cosh=[True],\n",
    "        exp=[True],\n",
    "        abs=[True],\n",
    "    ),\n",
    "    k_fold=10,\n",
    ")"
   ]
  },
  {
   "cell_type": "code",
   "execution_count": 14,
   "metadata": {
    "collapsed": false
   },
   "outputs": [],
   "source": [
    "# Data loading.\n",
    "y_train, x_train, ids_train = helpers.load_csv_data(\n",
    "    \"../data/train.csv\", sub_sample=config.sub_sample\n",
    ")\n",
    "_, x_test, ids_test = helpers.load_csv_data(\n",
    "    \"../data/test.csv\", sub_sample=config.sub_sample\n",
    ")\n",
    "y_train = dataset_utils.from_11_to_01(y_train)"
   ]
  },
  {
   "cell_type": "code",
   "execution_count": 38,
   "metadata": {
    "collapsed": false
   },
   "outputs": [
    {
     "name": "stderr",
     "output_type": "stream",
     "text": [
      "  0%|          | 0/1 [00:00<?, ?it/s]/Users/skander/courses/epfl/ml-project-1-lms/preprocessing.py:40: RuntimeWarning: invalid value encountered in divide\n",
      "  tx_train = (tx_train - train_mean) / train_std\n",
      "/Users/skander/courses/epfl/ml-project-1-lms/preprocessing.py:41: RuntimeWarning: invalid value encountered in divide\n",
      "  tx_test = (tx_test - train_mean) / train_std\n",
      "100%|██████████| 1/1 [00:53<00:00, 53.25s/it]"
     ]
    },
    {
     "name": "stdout",
     "output_type": "stream",
     "text": [
      "Algorithm: ridge_regression\n",
      "Best sweep accuracy: 0.794548.\n",
      "Obtained for hyperparameters: {'lambda_': 1e-07, 'categorical_subsets': [[0], [1], [2, 3]], 'standardize': True, 'nan_threshold_ratio': 0.5, 'nan_replacement_type': 'median', 'extrema_clip_percentage': 1, 'non_informative_threshold': -1, 'feature_augmentation': True, 'poly_max_degree': 12, 'ihs': True, 'sine': True, 'sinh': True, 'cosine': True, 'cosh': True, 'exp': True, 'abs': True, 'seed': 270404, 'test_accuracies': [0.79356, 0.79532, 0.80032, 0.79324, 0.79804, 0.78848, 0.79176, 0.79464, 0.79216, 0.79796]}.\n"
     ]
    },
    {
     "name": "stderr",
     "output_type": "stream",
     "text": [
      "\n"
     ]
    }
   ],
   "source": [
    "# Train a model.\n",
    "results = train_utils.hyperparameter_sweep(y_train, x_train, config)\n",
    "\n",
    "train_utils.save_hyperparameter_sweep_results(\n",
    "    algorithm=config.algorithm,\n",
    "    results=results,\n",
    "    output_dir=\"../results/ablation/non_informative\",\n",
    ")\n",
    "\n",
    "# Find the best hyperparameters.\n",
    "(\n",
    "    best_hyperparams,\n",
    "    best_mean_accuracy,\n",
    ") = train_utils.pick_best_hyperparameters(results)\n",
    "print(\n",
    "    f\"Algorithm: {config.algorithm.__name__}\\n\"\n",
    "    f\"Best sweep accuracy: {best_mean_accuracy}.\\n\"\n",
    "    f\"Obtained for hyperparameters: {best_hyperparams}.\"\n",
    ")"
   ]
  },
  {
   "cell_type": "markdown",
   "metadata": {},
   "source": [
    "## Get ablation boxplot\n",
    "\n",
    "Put all the generated '.pkl' files in the following directory: `\"../results/ablation\"`"
   ]
  },
  {
   "cell_type": "code",
   "execution_count": 18,
   "metadata": {},
   "outputs": [
    {
     "data": {
      "image/png": "[encoded data removed]",
      "text/plain": [
       "<Figure size 640x480 with 1 Axes>"
      ]
     },
     "metadata": {},
     "output_type": "display_data"
    }
   ],
   "source": [
    "import plots\n",
    "import os\n",
    "\n",
    "ablation_dir = \"../results/ablation\"\n",
    "paths_to_models = []\n",
    "for filename in os.listdir(ablation_dir):\n",
    "    if filename[-4:] == '.pkl':\n",
    "        paths_to_models.append(os.path.join(ablation_dir, filename))\n",
    "\n",
    "output_path = \"../figures/ablations.png\"\n",
    "\n",
    "\n",
    "plots.plot_models_accuracy(\n",
    "    paths_to_models=paths_to_models, \n",
    "    output_path=output_path,\n",
    "    x_label_rotation=45,\n",
    "    y_range=[0.7, 0.86]\n",
    "    )"
   ]
  }
 ],
 "metadata": {
  "kernelspec": {
   "display_name": "Python 3.9.13 ('cs433-p1-lms')",
   "language": "python",
   "name": "python3"
  },
  "language_info": {
   "codemirror_mode": {
    "name": "ipython",
    "version": 3
   },
   "file_extension": ".py",
   "mimetype": "text/x-python",
   "name": "python",
   "nbconvert_exporter": "python",
   "pygments_lexer": "ipython3",
   "version": "3.9.13"
  },
  "vscode": {
   "interpreter": {
    "hash": "4925206734250f49521696813461554350459dd14c620cc05875c4038ec93b94"
   }
  }
 },
 "nbformat": 4,
 "nbformat_minor": 0
}
